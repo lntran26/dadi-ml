{
 "cells": [
  {
   "cell_type": "code",
   "execution_count": 13,
   "metadata": {},
   "outputs": [],
   "source": [
    "import tensorflow\n",
    "from tensorflow import keras\n",
    "import os\n",
    "os.environ[\"CUDA_VISIBLE_DEVICES\"] = \"-1\"\n"
   ]
  },
  {
   "cell_type": "code",
   "execution_count": 29,
   "metadata": {},
   "outputs": [],
   "source": [
    "deep, wide = keras.Sequential(), keras.Sequential()\n",
    "n_inputs = 20\n",
    "n_outputs = 2\n",
    "\n",
    "for model in [deep, wide]:\n",
    "    model.add(keras.Input(shape=(n_inputs,)))\n",
    "    if model is deep:\n",
    "        model.add(keras.layers.Dense(200, activation='relu'))\n",
    "        model.add(keras.layers.Dense(100, activation='relu'))\n",
    "        model.add(keras.layers.Dense(50, activation='relu'))\n",
    "        model.add(keras.layers.Dense(20, activation='relu'))\n",
    "    if model is wide:\n",
    "        model.add(keras.layers.Dense(1000, activation='relu'))\n",
    "    model.add(keras.layers.Dense(n_outputs, activation='linear'))\n",
    "    model.compile(optimizer='adam',\n",
    "                    loss=keras.losses.MeanSquaredError(),\n",
    "                    metrics=['accuracy', 'mse'])"
   ]
  },
  {
   "cell_type": "code",
   "execution_count": 30,
   "metadata": {},
   "outputs": [
    {
     "name": "stdout",
     "output_type": "stream",
     "text": [
      "Model: \"sequential_24\"\n",
      "_________________________________________________________________\n",
      "Layer (type)                 Output Shape              Param #   \n",
      "=================================================================\n",
      "dense_66 (Dense)             (None, 200)               4200      \n",
      "_________________________________________________________________\n",
      "dense_67 (Dense)             (None, 100)               20100     \n",
      "_________________________________________________________________\n",
      "dense_68 (Dense)             (None, 50)                5050      \n",
      "_________________________________________________________________\n",
      "dense_69 (Dense)             (None, 20)                1020      \n",
      "_________________________________________________________________\n",
      "dense_70 (Dense)             (None, 2)                 42        \n",
      "=================================================================\n",
      "Total params: 30,412\n",
      "Trainable params: 30,412\n",
      "Non-trainable params: 0\n",
      "_________________________________________________________________\n"
     ]
    }
   ],
   "source": [
    "deep.summary()"
   ]
  },
  {
   "cell_type": "code",
   "execution_count": 31,
   "metadata": {},
   "outputs": [
    {
     "name": "stdout",
     "output_type": "stream",
     "text": [
      "Model: \"sequential_25\"\n",
      "_________________________________________________________________\n",
      "Layer (type)                 Output Shape              Param #   \n",
      "=================================================================\n",
      "dense_71 (Dense)             (None, 1000)              21000     \n",
      "_________________________________________________________________\n",
      "dense_72 (Dense)             (None, 2)                 2002      \n",
      "=================================================================\n",
      "Total params: 23,002\n",
      "Trainable params: 23,002\n",
      "Non-trainable params: 0\n",
      "_________________________________________________________________\n"
     ]
    }
   ],
   "source": [
    "wide.summary()"
   ]
  }
 ],
 "metadata": {
  "interpreter": {
   "hash": "3fec528b8c6247016f93e0b566bc70d239ce0829665bf83aab42bbf52a2d9fd4"
  },
  "kernelspec": {
   "display_name": "Python 3.7.6 64-bit",
   "name": "python3"
  },
  "language_info": {
   "codemirror_mode": {
    "name": "ipython",
    "version": 3
   },
   "file_extension": ".py",
   "mimetype": "text/x-python",
   "name": "python",
   "nbconvert_exporter": "python",
   "pygments_lexer": "ipython3",
   "version": "3.7.6"
  },
  "orig_nbformat": 4
 },
 "nbformat": 4,
 "nbformat_minor": 2
}
