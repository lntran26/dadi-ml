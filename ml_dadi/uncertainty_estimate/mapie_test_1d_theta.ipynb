{
 "cells": [
  {
   "cell_type": "code",
   "execution_count": 2,
   "metadata": {},
   "outputs": [],
   "source": [
    "import numpy as np\n",
    "import dadi\n",
    "import random\n",
    "import pickle\n",
    "import os, sys\n",
    "sys.path.append(os.path.join(os.getcwd(), '..')) # this is the ml_dadi dir\n",
    "from data_manip import generating_data\n",
    "import math"
   ]
  },
  {
   "cell_type": "code",
   "execution_count": 33,
   "metadata": {},
   "outputs": [],
   "source": [
    "def generate_data_1d_2epoch_unnorm(n_samples, theta_list, sample=False):\n",
    "    # generate params\n",
    "    params_dict = {}\n",
    "\n",
    "    while len(params_dict) < n_samples:\n",
    "        log_theta = random.random() * 3 + 2\n",
    "        log_nu = random.random() * 4 - 2\n",
    "        T = random.random() * 1.9 + 0.1\n",
    "        params_dict[(log_nu, T)] = log_theta\n",
    "\n",
    "    print(f'n_samples={len(params_dict)}')\n",
    "\n",
    "    # designate demographic model, sample size, and extrapolation grid\n",
    "    func = dadi.Demographics1D.two_epoch\n",
    "    ns = [20]\n",
    "    pts_l = [40, 50, 60]\n",
    "    # theta_list = [1]\n",
    "    # specify param in log scale\n",
    "    logs = [True, False]\n",
    "\n",
    "    # generate data\n",
    "    data = generating_data(\n",
    "        list(params_dict.keys()), theta_list, func, ns, pts_l, logs)\n",
    "\n",
    "    # make new dict with new labels (log_theta, log_nu, T)\n",
    "    data_dict = {}\n",
    "    # also need to times fs by unlog theta\n",
    "\n",
    "    # right now we have two dicts: params_dict and data[0]\n",
    "    # both have n_samples items and same log_nu, T tuple as keys\n",
    "    for key in list(params_dict.keys()):\n",
    "        log_theta = params_dict[key]\n",
    "        theta = 10**log_theta\n",
    "        # make a new tuple key with log_nu, T and theta\n",
    "        # this will be our new training label\n",
    "        new_key = tuple([log_theta]) + key\n",
    "        # print(new_key)\n",
    "\n",
    "        # # convert nu and T\n",
    "        # new_nu = math.log10(10**key[0] * theta / 4)\n",
    "        # new_T = key[1] * theta / 2\n",
    "        # # new_key = new_nu, new_T, log_theta\n",
    "        # new_key = new_nu, new_T\n",
    "\n",
    "        # make new fs using unlog theta\n",
    "        fs = data[0][key]\n",
    "        if sample:\n",
    "            scaled_fs = (fs * theta).sample()\n",
    "        else:\n",
    "            scaled_fs = fs * theta\n",
    "\n",
    "        # store into new data dict\n",
    "        data_dict[new_key] = scaled_fs\n",
    "\n",
    "    return data_dict"
   ]
  },
  {
   "cell_type": "code",
   "execution_count": 12,
   "metadata": {},
   "outputs": [
    {
     "name": "stdout",
     "output_type": "stream",
     "text": [
      "n_samples=1000\n"
     ]
    }
   ],
   "source": [
    "train_data = generate_data_1d_2epoch_unnorm(1000, [1])\n"
   ]
  },
  {
   "cell_type": "code",
   "execution_count": 15,
   "metadata": {},
   "outputs": [
    {
     "name": "stdout",
     "output_type": "stream",
     "text": [
      "n_samples=100\n"
     ]
    }
   ],
   "source": [
    "test_data_1 = generate_data_1d_2epoch_unnorm(100, [1])"
   ]
  },
  {
   "cell_type": "code",
   "execution_count": 34,
   "metadata": {},
   "outputs": [
    {
     "name": "stdout",
     "output_type": "stream",
     "text": [
      "n_samples=100\n"
     ]
    }
   ],
   "source": [
    "test_data_2 = generate_data_1d_2epoch_unnorm(100, [1], sample=True)"
   ]
  },
  {
   "cell_type": "code",
   "execution_count": 43,
   "metadata": {},
   "outputs": [],
   "source": [
    "pickle.dump(test_data_2, open('data/1d_2epoch/theta_test_data_2', 'wb'), 2)"
   ]
  },
  {
   "cell_type": "code",
   "execution_count": 52,
   "metadata": {},
   "outputs": [
    {
     "name": "stdout",
     "output_type": "stream",
     "text": [
      "n_samples=100\n"
     ]
    }
   ],
   "source": [
    "# make test_data_3 (sampled not normalized)\n",
    "def generate_data_1d_2epoch_unnorm(n_samples, theta_list):\n",
    "    # generate params\n",
    "    params = []\n",
    "\n",
    "    while len(params) < n_samples:\n",
    "        log_nu = random.random() * 4 - 2\n",
    "        T = random.random() * 1.9 + 0.1\n",
    "        params.append((log_nu, T))\n",
    "\n",
    "    print(f'n_samples={len(params)}')\n",
    "\n",
    "    # designate demographic model, sample size, and extrapolation grid\n",
    "    func = dadi.Demographics1D.two_epoch\n",
    "    ns = [20]\n",
    "    pts_l = [40, 50, 60]\n",
    "    # specify param in log scale\n",
    "    logs = [True, False]\n",
    "\n",
    "    # generate data\n",
    "    data = generating_data(params, theta_list, func, ns, pts_l, logs, norm=False)\n",
    "    return data\n",
    "test_data_3 = generate_data_1d_2epoch_unnorm(100, [10000, 1000, 100])"
   ]
  },
  {
   "cell_type": "code",
   "execution_count": 78,
   "metadata": {},
   "outputs": [
    {
     "name": "stdout",
     "output_type": "stream",
     "text": [
      "n_samples=100\n"
     ]
    }
   ],
   "source": [
    "# make test_data_4 (not sampled)\n",
    "def generate_data_1d_2epoch_unnorm(n_samples, theta_list):\n",
    "    # generate params\n",
    "    params = []\n",
    "\n",
    "    while len(params) < n_samples:\n",
    "        log_nu = random.random() * 4 - 2\n",
    "        T = random.random() * 1.9 + 0.1\n",
    "        params.append((log_nu, T))\n",
    "\n",
    "    print(f'n_samples={len(params)}')\n",
    "\n",
    "    # designate demographic model, sample size, and extrapolation grid\n",
    "    func = dadi.Demographics1D.two_epoch\n",
    "    ns = [20]\n",
    "    pts_l = [40, 50, 60]\n",
    "    # specify param in log scale\n",
    "    logs = [True, False]\n",
    "\n",
    "    # generate data\n",
    "    data = generating_data(params, theta_list, func, ns, pts_l, logs, sample=False, norm=False)\n",
    "    return data\n",
    "test_data_4 = generate_data_1d_2epoch_unnorm(100, [10000, 1000, 100])"
   ]
  },
  {
   "cell_type": "code",
   "execution_count": 54,
   "metadata": {},
   "outputs": [],
   "source": [
    "pickle.dump(test_data_3, open('data/1d_2epoch/theta_test_data_3', 'wb'), 2)"
   ]
  },
  {
   "cell_type": "code",
   "execution_count": 79,
   "metadata": {},
   "outputs": [],
   "source": [
    "pickle.dump(test_data_4, open('data/1d_2epoch/theta_test_data_4', 'wb'), 2)"
   ]
  },
  {
   "cell_type": "code",
   "execution_count": 16,
   "metadata": {},
   "outputs": [],
   "source": [
    "pickle.dump(train_data, open('data/1d_2epoch/theta_train_data', 'wb'), 2)\n",
    "pickle.dump(test_data_1, open('data/1d_2epoch/theta_test_data', 'wb'), 2)"
   ]
  },
  {
   "cell_type": "code",
   "execution_count": 17,
   "metadata": {},
   "outputs": [],
   "source": [
    "# unpack train data set\n",
    "X_train = [train_data[params].data.flatten()\n",
    "           for params in train_data]\n",
    "\n",
    "y_train = [params for params in train_data]\n",
    "# separate each param\n",
    "theta_train = [params[0] for params in y_train]\n",
    "# nu_train = [params[1] for params in y_train]\n",
    "# T_train = [params[2] for params in y_train]"
   ]
  },
  {
   "cell_type": "code",
   "execution_count": 24,
   "metadata": {},
   "outputs": [
    {
     "data": {
      "text/plain": [
       "MapieRegressor(estimator=MLPRegressor(activation='tanh',\n",
       "                                      hidden_layer_sizes=(500,), max_iter=10000,\n",
       "                                      solver='lbfgs', tol=0.1))"
      ]
     },
     "execution_count": 24,
     "metadata": {},
     "output_type": "execute_result"
    }
   ],
   "source": [
    "from mapie.regression import MapieRegressor\n",
    "from sklearn.neural_network import MLPRegressor\n",
    "# implementing MAPIE train\n",
    "mlpr = MLPRegressor(hidden_layer_sizes=(500,), activation='tanh',\n",
    "                            solver='lbfgs', max_iter=10000, tol=1e-1)\n",
    "\n",
    "# for theta\n",
    "mapie_theta = MapieRegressor(mlpr)\n",
    "mapie_theta.fit(X_train, theta_train)"
   ]
  },
  {
   "cell_type": "code",
   "execution_count": 25,
   "metadata": {},
   "outputs": [],
   "source": [
    "pickle.dump(mapie_theta, open('data/1d_2epoch/mapie_theta', 'wb'), 2)"
   ]
  },
  {
   "cell_type": "code",
   "execution_count": 103,
   "metadata": {},
   "outputs": [],
   "source": [
    "# unpack test data set 1\n",
    "X_test = [test_data_1[params].data.flatten()\n",
    "          for params in test_data_1]\n",
    "y_test = [params for params in test_data_1]\n",
    "# separate each param\n",
    "theta_test = [params[0] for params in y_test]\n",
    "nu_test = [params[1] for params in y_test]\n",
    "T_test = [params[2] for params in y_test]"
   ]
  },
  {
   "cell_type": "code",
   "execution_count": 116,
   "metadata": {},
   "outputs": [],
   "source": [
    "# unpack test data set 2\n",
    "X_test = [test_data_2[params].data.flatten()\n",
    "          for params in test_data_2]\n",
    "y_test = [params for params in test_data_2]\n",
    "# separate each param\n",
    "theta_test = [params[0] for params in y_test]\n",
    "nu_test = [params[1] for params in y_test]\n",
    "T_test = [params[2] for params in y_test]"
   ]
  },
  {
   "cell_type": "code",
   "execution_count": 123,
   "metadata": {},
   "outputs": [],
   "source": [
    "# unpack test data set 3\n",
    "i=0\n",
    "theta_list = [10000, 1000, 100]\n",
    "X_test = [test_data_3[i][params].data.flatten()\n",
    "          for params in test_data_3[i]]\n",
    "y_test = [params for params in test_data_3[i]]\n",
    "# separate each param\n",
    "theta_test = [math.log10(theta_list[i]) for _ in range(100)]\n",
    "nu_test = [params[0] for params in y_test]\n",
    "T_test = [params[1] for params in y_test]"
   ]
  },
  {
   "cell_type": "code",
   "execution_count": 93,
   "metadata": {},
   "outputs": [],
   "source": [
    "# unpack test data set 4\n",
    "i=0\n",
    "theta_list = [10000, 1000, 100]\n",
    "X_test = [test_data_4[i][params].data.flatten()\n",
    "          for params in test_data_4[i]]\n",
    "y_test = [params for params in test_data_4[i]]\n",
    "# separate each param\n",
    "theta_test = [math.log10(theta_list[i]) for _ in range(100)]\n",
    "nu_test = [params[0] for params in y_test]\n",
    "T_test = [params[1] for params in y_test]"
   ]
  },
  {
   "cell_type": "code",
   "execution_count": 124,
   "metadata": {},
   "outputs": [],
   "source": [
    "# implementing MAPIE test\n",
    "alpha = [0.05, 0.1, 0.2, 0.5, 0.7, 0.85]\n",
    "# for nu\n",
    "theta_pred, theta_pis = mapie_theta.predict(X_test, alpha=alpha)\n"
   ]
  },
  {
   "cell_type": "code",
   "execution_count": 125,
   "metadata": {},
   "outputs": [
    {
     "name": "stderr",
     "output_type": "stream",
     "text": [
      "An input array is constant; the correlation coefficent is not defined."
     ]
    },
    {
     "data": {
      "image/png": "[encoded data removed]",
      "text/plain": [
       "<Figure size 432x288 with 2 Axes>"
      ]
     },
     "metadata": {
      "needs_background": "light"
     },
     "output_type": "display_data"
    }
   ],
   "source": [
    "from matplotlib import pyplot as plt\n",
    "from mapie.metrics import regression_coverage_score\n",
    "import plotting\n",
    "from plotting import plot_accuracy_single\n",
    "import ml_models\n",
    "T_over_nu = [T/10**nu for T,nu in zip(T_test, nu_test)]\n",
    "theta_test_log = [10**p_true for p_true in theta_test]\n",
    "theta_pred_log = [10**p_pred for p_pred in theta_pred]\n",
    "r2 = ml_models.r2(theta_test_log, theta_pred_log)[0]\n",
    "rho = ml_models.rho(theta_test_log, theta_pred_log)\n",
    "plot_accuracy_single(theta_test_log, theta_pred_log, x_label=\"true\",\n",
    "                         y_label=\"predict\", size=[6, 2, 20], log=True, r2=r2, rho=rho, title = f'θ={theta_list[i]}', c=T_over_nu)"
   ]
  },
  {
   "cell_type": "code",
   "execution_count": 126,
   "metadata": {},
   "outputs": [
    {
     "data": {
      "text/plain": [
       "[0.7, 0.66, 0.61, 0.01, 0.0, 0.0]"
      ]
     },
     "execution_count": 126,
     "metadata": {},
     "output_type": "execute_result"
    }
   ],
   "source": [
    "theta_coverage_scores = [\n",
    "    regression_coverage_score(theta_test, theta_pis[:, 0, i], theta_pis[:, 1, i])\n",
    "    for i, _ in enumerate(alpha)\n",
    "]\n",
    "theta_coverage_scores "
   ]
  },
  {
   "cell_type": "code",
   "execution_count": 127,
   "metadata": {},
   "outputs": [
    {
     "data": {
      "text/plain": [
       "<matplotlib.legend.Legend at 0x7fdefa001730>"
      ]
     },
     "execution_count": 127,
     "metadata": {},
     "output_type": "execute_result"
    },
    {
     "data": {
      "image/png": "[encoded data removed]",
      "text/plain": [
       "<Figure size 432x288 with 1 Axes>"
      ]
     },
     "metadata": {
      "needs_background": "light"
     },
     "output_type": "display_data"
    }
   ],
   "source": [
    "# plot coverage\n",
    "expected = [95, 90, 80, 50, 30, 15]\n",
    "# theta = 1000\n",
    "params = ['θ']\n",
    "\n",
    "observed = ([s*100 for s in theta_coverage_scores],)\n",
    "\n",
    "fig = plt.figure()\n",
    "ax = plt.gca()\n",
    "ax.set_aspect('equal', 'box')\n",
    "font = {'weight': 'bold', 'size': 12}\n",
    "plt.rc('font', **font)\n",
    "\n",
    "ax.set_title(f'θ={theta_list[i]}', fontsize=15, fontweight='bold')\n",
    "ax.set_xlabel(\"expected\", fontsize=12, fontweight='bold')\n",
    "ax.set_ylabel(\"observed\", fontsize=12, fontweight='bold')\n",
    "\n",
    "for i in range(len(params)):\n",
    "    ax.plot(expected, observed[i],\n",
    "            label=params[i], marker='o', linewidth=2)\n",
    "ax.plot(expected, expected, label='match', linewidth=2, color=\"black\")\n",
    "\n",
    "plt.xticks(np.arange(min(expected), max(expected)+5, 10))\n",
    "plt.yticks(np.arange(min(expected), max(expected)+5, 10))\n",
    "plt.xlim([0, 100])\n",
    "plt.ylim([0, 100])\n",
    "\n",
    "ax.legend()"
   ]
  },
  {
   "cell_type": "code",
   "execution_count": 128,
   "metadata": {},
   "outputs": [
    {
     "data": {
      "image/png": "[encoded data removed]",
      "text/plain": [
       "<Figure size 1440x360 with 1 Axes>"
      ]
     },
     "metadata": {
      "needs_background": "light"
     },
     "output_type": "display_data"
    }
   ],
   "source": [
    "# plot 95% confidence interval\n",
    "# theta = 100\n",
    "params = ['θ']\n",
    "theta_arr = np.array([theta_test, theta_pred, theta_pis[:, 0, 0], theta_pis[:, 1, 0]])\n",
    "# sort by param\n",
    "int_arr_all = [theta_arr.T.tolist()] # differs from Connie bootstrapping version: [true, pred, lower, upper]\n",
    "size = 100\n",
    "x = range(size)\n",
    "\n",
    "# plot 95% confidence interval (cont.)\n",
    "for param, int_arr in zip(params, int_arr_all):\n",
    "    int_arr = np.array(int_arr[:size])\n",
    "    int_arr = int_arr.transpose(1, 0)\n",
    "\n",
    "    fig = plt.figure(figsize=(20, 5))\n",
    "    # ax = fig.add_subplot(1, 1, 1)\n",
    "    ax = plt.gca()\n",
    "    minor_ticks = np.arange(0, size)\n",
    "    major_ticks = np.arange(0, size, 10)\n",
    "    ax.set_xticks(minor_ticks, minor=True)\n",
    "    ax.grid(which='both')\n",
    "\n",
    "    ax.scatter(x, int_arr[0], c=\"red\", label=\"true\")\n",
    "    # ax.scatter(x, int_arr[0], c=T_over_nu, vmax=5, label=\"true\")\n",
    "    neg_int = int_arr[1] - int_arr[2]\n",
    "    pos_int = int_arr[3] - int_arr[1]\n",
    "    ax.errorbar(x, int_arr[1], yerr=[\n",
    "                neg_int, pos_int], fmt='bo', label = 'pred')\n",
    "    # ax.errorbar(x, int_arr[1], yerr=[\n",
    "    #             neg_int, pos_int], fmt='bo', label = 'pred', c=\"sienna\")\n",
    "\n",
    "    # ax.set_title(f'{param}, theta={theta_list[i]}', fontsize=12, fontweight='bold')\n",
    "    ax.set_title(f'{param}=10000, 95% CI sampled', fontsize=12, fontweight='bold')\n",
    "    ax.legend()"
   ]
  }
 ],
 "metadata": {
  "interpreter": {
   "hash": "cdc36f2de7190ea8b8383785aa4420ddc3efd64ef264b0251f8b4b81c783009f"
  },
  "kernelspec": {
   "display_name": "Python 3.8.8 64-bit (conda)",
   "language": "python",
   "name": "python3"
  },
  "language_info": {
   "codemirror_mode": {
    "name": "ipython",
    "version": 3
   },
   "file_extension": ".py",
   "mimetype": "text/x-python",
   "name": "python",
   "nbconvert_exporter": "python",
   "pygments_lexer": "ipython3",
   "version": "3.8.8"
  },
  "orig_nbformat": 4
 },
 "nbformat": 4,
 "nbformat_minor": 2
}
