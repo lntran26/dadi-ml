{
 "cells": [
  {
   "cell_type": "code",
   "execution_count": 1,
   "metadata": {},
   "outputs": [],
   "source": [
    "import pickle\n",
    "import os, sys\n",
    "sys.path.append(os.path.join(os.getcwd(), '..')) # this is the ml_dadi dir\n",
    "import ml_models\n",
    "from ml_models import model_search\n",
    "from sklearn.neural_network import MLPRegressor"
   ]
  },
  {
   "cell_type": "code",
   "execution_count": 2,
   "metadata": {},
   "outputs": [],
   "source": [
    "# Load training data\n",
    "train_data = pickle.load(open('data/1d_2epoch/theta_train_data', 'rb'))"
   ]
  },
  {
   "cell_type": "code",
   "execution_count": 12,
   "metadata": {},
   "outputs": [],
   "source": [
    "# unpack train data and make label to only be theta\n",
    "new_train_data = {}\n",
    "for key, value in train_data.items():\n",
    "    new_key = key[0]\n",
    "    new_train_data[new_key] = value"
   ]
  },
  {
   "cell_type": "code",
   "execution_count": 13,
   "metadata": {},
   "outputs": [],
   "source": [
    "# Specify the ML models to be optimized\n",
    "mlpr = MLPRegressor()"
   ]
  },
  {
   "cell_type": "code",
   "execution_count": 18,
   "metadata": {},
   "outputs": [],
   "source": [
    "# Specify param_grid to do the grid search over\n",
    "param_grid = {'solver': ['lbfgs'],\n",
    "              'activation': ['tanh'],\n",
    "              'hidden_layer_sizes': [(500,), (1000,)],\n",
    "              'max_iter': [5000],\n",
    "              'tol': [1e-2]}\n"
   ]
  },
  {
   "cell_type": "code",
   "execution_count": 19,
   "metadata": {},
   "outputs": [
    {
     "name": "stdout",
     "output_type": "stream",
     "text": [
      "Fitting 5 folds for each of 2 candidates, totalling 10 fits\n",
      "Model with rank: 1\n",
      "Mean validation score: 0.825 (std: 0.011)\n",
      "Parameters: {'activation': 'tanh', 'hidden_layer_sizes': (1000,), 'max_iter': 5000, 'solver': 'lbfgs', 'tol': 0.01}\n",
      "\n",
      "Model with rank: 2\n",
      "Mean validation score: 0.820 (std: 0.008)\n",
      "Parameters: {'activation': 'tanh', 'hidden_layer_sizes': (500,), 'max_iter': 5000, 'solver': 'lbfgs', 'tol': 0.01}\n",
      "\n"
     ]
    },
    {
     "name": "stderr",
     "output_type": "stream",
     "text": [
      "lbfgs failed to converge (status=1):\n",
      "STOP: TOTAL NO. of ITERATIONS REACHED LIMIT.\n",
      "\n",
      "Increase the number of iterations (max_iter) or scale the data as shown in:\n",
      "    https://scikit-learn.org/stable/modules/preprocessing.html"
     ]
    }
   ],
   "source": [
    "model_search(mlpr, train_data, param_grid)"
   ]
  }
 ],
 "metadata": {
  "interpreter": {
   "hash": "cdc36f2de7190ea8b8383785aa4420ddc3efd64ef264b0251f8b4b81c783009f"
  },
  "kernelspec": {
   "display_name": "Python 3.8.8 64-bit (conda)",
   "language": "python",
   "name": "python3"
  },
  "language_info": {
   "codemirror_mode": {
    "name": "ipython",
    "version": 3
   },
   "file_extension": ".py",
   "mimetype": "text/x-python",
   "name": "python",
   "nbconvert_exporter": "python",
   "pygments_lexer": "ipython3",
   "version": "3.8.8"
  },
  "orig_nbformat": 4
 },
 "nbformat": 4,
 "nbformat_minor": 2
}
