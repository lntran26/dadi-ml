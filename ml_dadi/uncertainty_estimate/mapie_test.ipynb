{
 "cells": [
  {
   "cell_type": "code",
   "execution_count": 1,
   "source": [
    "import numpy as np\n",
    "import dadi\n",
    "import random\n",
    "import pickle\n",
    "import os, sys\n",
    "sys.path.append(os.path.join(os.getcwd(), '..')) # this is the ml_dadi dir\n",
    "import data_manip\n",
    "from data_manip import generating_data\n",
    "from mapie.regression import MapieRegressor\n",
    "from sklearn.neural_network import MLPRegressor\n",
    "from matplotlib import pyplot as plt\n",
    "from mapie.metrics import regression_coverage_score"
   ],
   "outputs": [],
   "metadata": {}
  },
  {
   "cell_type": "code",
   "execution_count": 2,
   "source": [
    "def generate_data_from_params(n_samples, theta_list):\n",
    "    # designate dadi demographic model, sample size, and extrapolation grid\n",
    "    func = dadi.Demographics1D.two_epoch\n",
    "    ns = [20]\n",
    "    pts_l = [40, 50, 60]\n",
    "    # specify param in log scale\n",
    "    logs = [True, False]\n",
    "\n",
    "    # generate params\n",
    "    params_list = []\n",
    "\n",
    "    while len(params_list) < n_samples:\n",
    "        # pick random values in specified range\n",
    "        # nu range: 0.01-100; T range: 0.1-2\n",
    "        log_nu = random.random() * 4 - 2\n",
    "        T = random.random() * 1.9 + 0.1\n",
    "        if T/10**log_nu <= 5: # exclude certain T & nu combo\n",
    "            params_list.append((log_nu, T))\n",
    "    \n",
    "    return generating_data(params_list, theta_list, func, ns, pts_l, logs)"
   ],
   "outputs": [],
   "metadata": {}
  },
  {
   "cell_type": "code",
   "execution_count": 36,
   "source": [
    "train_data = generate_data_from_params(500, [1])\n",
    "test_data = generate_data_from_params(100, [10000, 1000, 100])\n"
   ],
   "outputs": [],
   "metadata": {}
  },
  {
   "cell_type": "code",
   "execution_count": 4,
   "source": [
    "# def unpack(data):\n",
    "#     X = [data[params].data.flatten() for params in data]\n",
    "#     y = [params for params in data]\n",
    "#     y_by_param = []\n",
    "#     for i in range(len(y[0])):\n",
    "#         p_set = [params[i] for params in y]\n",
    "#         y_by_param.append(p_set)\n",
    "#     return X, y, y_by_param"
   ],
   "outputs": [],
   "metadata": {}
  },
  {
   "cell_type": "code",
   "execution_count": null,
   "source": [
    "# X_train, y_train, y_train_by_param = unpack(train_data[0])"
   ],
   "outputs": [],
   "metadata": {}
  },
  {
   "cell_type": "code",
   "execution_count": null,
   "source": [
    "# test_name = ['test_10000', 'test_1000', 'test_100']\n",
    "# test_dict = {}\n",
    "# for name, data in zip(test_name, test_data):\n",
    "#     test_dict[name] = unpack(data)"
   ],
   "outputs": [],
   "metadata": {}
  },
  {
   "cell_type": "code",
   "execution_count": 37,
   "source": [
    "# unpack train data set\n",
    "X_train = [train_data[0][params].data.flatten()\n",
    "           for params in train_data[0]]\n",
    "\n",
    "y_train = [params for params in train_data[0]]\n",
    "# separate each param\n",
    "nu_train = [params[0] for params in y_train]\n",
    "T_train = [params[1] for params in y_train]\n"
   ],
   "outputs": [],
   "metadata": {}
  },
  {
   "cell_type": "code",
   "execution_count": 38,
   "source": [
    "# implementing MAPIE train\n",
    "mlpr = MLPRegressor(hidden_layer_sizes=(25, 25, 25, 25),\n",
    "                            activation='relu', solver='lbfgs',\n",
    "                            alpha=1, max_iter=5000)\n",
    "\n",
    "# for nu\n",
    "mapie_nu = MapieRegressor(mlpr)\n",
    "mapie_nu.fit(X_train, nu_train)\n",
    "# for T\n",
    "mapie_T = MapieRegressor(mlpr)\n",
    "mapie_T.fit(X_train, T_train)"
   ],
   "outputs": [
    {
     "output_type": "execute_result",
     "data": {
      "text/plain": [
       "MapieRegressor(estimator=MLPRegressor(alpha=1,\n",
       "                                      hidden_layer_sizes=(25, 25, 25, 25),\n",
       "                                      max_iter=5000, solver='lbfgs'))"
      ]
     },
     "metadata": {},
     "execution_count": 38
    }
   ],
   "metadata": {}
  },
  {
   "cell_type": "code",
   "execution_count": 62,
   "source": [
    "# unpack test data set\n",
    "X_test = [test_data[1][params].data.flatten()\n",
    "          for params in test_data[1]]\n",
    "y_test = [params for params in test_data[1]]\n",
    "# separate each param\n",
    "nu_test = [params[0] for params in y_test]\n",
    "T_test = [params[1] for params in y_test]"
   ],
   "outputs": [],
   "metadata": {}
  },
  {
   "cell_type": "code",
   "execution_count": 63,
   "source": [
    "# implementing MAPIE test\n",
    "alpha = [0.05, 0.1, 0.2, 0.5, 0.7, 0.85]\n",
    "# for nu\n",
    "nu_pred, nu_pis = mapie_nu.predict(X_test, alpha=alpha)\n",
    "# for T\n",
    "T_pred, T_pis = mapie_T.predict(X_test, alpha=alpha)"
   ],
   "outputs": [],
   "metadata": {}
  },
  {
   "cell_type": "code",
   "execution_count": null,
   "source": [
    "# def mapie_by_param(X_train, y_train, X_test, alpha=[0.05, 0.1, 0.2, 0.5, 0.7, 0.85]):\n",
    "#     '''y_train for 1 param only\n",
    "#     return: pred, pis for that param'''\n",
    "#     mlpr = MLPRegressor(hidden_layer_sizes=(25, 25, 25, 25),\n",
    "#                         activation='relu', solver='lbfgs',\n",
    "#                         alpha=1, max_iter=5000)\n",
    "#     mapie = MapieRegressor(mlpr)\n",
    "#     mapie.fit(X_train, y_train)\n",
    "\n",
    "#     return mapie.predict(X_test, alpha=alpha)\n"
   ],
   "outputs": [],
   "metadata": {}
  },
  {
   "cell_type": "code",
   "execution_count": null,
   "source": [
    "# def coverage_scores(y_test_by_param, pis_by_param,\n",
    "#                     alpha=[0.05, 0.1, 0.2, 0.5, 0.7, 0.85]):\n",
    "#     coverage_scores = [\n",
    "#         regression_coverage_score(y_test_by_param,\n",
    "#                                   pis_by_param[:, 0, i],\n",
    "#                                   pis_by_param[:, 1, i])\n",
    "#         for i, _ in enumerate(alpha)\n",
    "#     ]\n",
    "#     return coverage_scores\n"
   ],
   "outputs": [],
   "metadata": {}
  },
  {
   "cell_type": "code",
   "execution_count": null,
   "source": [
    "# # for nu\n",
    "# mapie.fit(X_train, nu_train)\n",
    "# nu_pred, nu_pis = mapie.predict(X_test, alpha=alpha)\n"
   ],
   "outputs": [],
   "metadata": {}
  },
  {
   "cell_type": "code",
   "execution_count": 64,
   "source": [
    "# coverage_scores = regression_coverage_score(nu_test, nu_pis[:, 0, :], nu_pis[:, 1, :])\n",
    "nu_coverage_scores = [\n",
    "    regression_coverage_score(nu_test, nu_pis[:, 0, i], nu_pis[:, 1, i])\n",
    "    for i, _ in enumerate(alpha)\n",
    "]\n",
    "nu_coverage_scores "
   ],
   "outputs": [
    {
     "output_type": "execute_result",
     "data": {
      "text/plain": [
       "[1.0, 0.92, 0.74, 0.46, 0.3, 0.06]"
      ]
     },
     "metadata": {},
     "execution_count": 64
    }
   ],
   "metadata": {}
  },
  {
   "cell_type": "code",
   "execution_count": null,
   "source": [
    "# # for T\n",
    "# mapie.fit(X_train, T_train)\n",
    "# T_pred, T_pis = mapie.predict(X_test, alpha=alpha)\n"
   ],
   "outputs": [],
   "metadata": {}
  },
  {
   "cell_type": "code",
   "execution_count": 65,
   "source": [
    "# coverage_scores = regression_coverage_score(T_test, T_pis[:, 0, :], T_pis[:, 1, :])\n",
    "T_coverage_scores = [\n",
    "    regression_coverage_score(T_test, T_pis[:, 0, i], T_pis[:, 1, i])\n",
    "    for i, _ in enumerate(alpha)\n",
    "]\n",
    "T_coverage_scores "
   ],
   "outputs": [
    {
     "output_type": "execute_result",
     "data": {
      "text/plain": [
       "[0.98, 0.85, 0.78, 0.46, 0.3, 0.07]"
      ]
     },
     "metadata": {},
     "execution_count": 65
    }
   ],
   "metadata": {}
  },
  {
   "cell_type": "code",
   "execution_count": 67,
   "source": [
    "# plot coverage\n",
    "\n",
    "expected = [95, 90, 80, 50, 30, 15]\n",
    "theta = 1000\n",
    "params = ['nu', 'T']\n",
    "\n",
    "observed = ([s*100 for s in nu_coverage_scores],\n",
    "            [s*100 for s in T_coverage_scores])\n",
    "\n",
    "fig = plt.figure()\n",
    "ax = plt.gca()\n",
    "ax.set_aspect('equal', 'box')\n",
    "font = {'weight': 'bold', 'size': 12}\n",
    "plt.rc('font', **font)\n",
    "\n",
    "ax.set_title(f'theta={theta}', fontsize=15, fontweight='bold')\n",
    "ax.set_xlabel(\"expected\", fontsize=12, fontweight='bold')\n",
    "ax.set_ylabel(\"observed\", fontsize=12, fontweight='bold')\n",
    "\n",
    "for i in range(len(params)):\n",
    "    ax.plot(expected, observed[i],\n",
    "            label=params[i], marker='o', linewidth=2)\n",
    "ax.plot(expected, expected, label='match', linewidth=2, color=\"black\")\n",
    "\n",
    "plt.xticks(np.arange(min(expected), max(expected)+5, 10))\n",
    "plt.yticks(np.arange(min(expected), max(expected)+5, 10))\n",
    "plt.xlim([0, 100])\n",
    "plt.ylim([0, 100])\n",
    "\n",
    "ax.legend()\n"
   ],
   "outputs": [
    {
     "output_type": "execute_result",
     "data": {
      "text/plain": [
       "<matplotlib.legend.Legend at 0x7fa12811e190>"
      ]
     },
     "metadata": {},
     "execution_count": 67
    },
    {
     "output_type": "display_data",
     "data": {
      "image/png": "[encoded data removed]",
      "text/plain": [
       "<Figure size 432x288 with 1 Axes>"
      ]
     },
     "metadata": {
      "needs_background": "light"
     }
    }
   ],
   "metadata": {}
  },
  {
   "cell_type": "code",
   "execution_count": 60,
   "source": [
    "# plot 95% confidence interval\n",
    "theta = 100\n",
    "params = ['nu', 'T']\n",
    "nu_arr = np.array([nu_test, nu_pred, nu_pis[:, 0, 0], nu_pis[:, 1, 0]]) #nu_test is the true test val\n",
    "T_arr = np.array([T_test, T_pred, T_pis[:, 0, 0], T_pis[:, 1, 0]])\n",
    "# sort by param\n",
    "int_arr_all = [nu_arr.T.tolist(), T_arr.T.tolist()] # differs from Connie bootstrapping version: [true, pred, lower, upper]\n",
    "size = 100\n",
    "x = range(size)\n"
   ],
   "outputs": [],
   "metadata": {}
  },
  {
   "cell_type": "code",
   "execution_count": 61,
   "source": [
    "# plot 95% confidence interval (cont.)\n",
    "for param, int_arr in zip(params, int_arr_all):\n",
    "    int_arr = np.array(int_arr[:size])\n",
    "    int_arr = int_arr.transpose(1, 0)\n",
    "\n",
    "    fig = plt.figure(figsize=(20, 5))\n",
    "    # ax = fig.add_subplot(1, 1, 1)\n",
    "    ax = plt.gca()\n",
    "    minor_ticks = np.arange(0, size)\n",
    "    major_ticks = np.arange(0, size, 10)\n",
    "    ax.set_xticks(major_ticks)\n",
    "    ax.set_xticks(minor_ticks, minor=True)\n",
    "    ax.grid(which='both')\n",
    "\n",
    "    ax.scatter(x, int_arr[0], c=\"red\", label=\"true\")\n",
    "    neg_int = int_arr[1] - int_arr[2]\n",
    "    pos_int = int_arr[3] - int_arr[1]\n",
    "    ax.errorbar(x, int_arr[1], yerr=[\n",
    "                neg_int, pos_int], fmt='bo', label = 'pred')\n",
    "\n",
    "    ax.set_title(f'{param}, theta={theta}', fontsize=12, fontweight='bold')\n",
    "    ax.legend()"
   ],
   "outputs": [
    {
     "output_type": "display_data",
     "data": {
      "image/png": "[encoded data removed]",
      "text/plain": [
       "<Figure size 1440x360 with 1 Axes>"
      ]
     },
     "metadata": {
      "needs_background": "light"
     }
    },
    {
     "output_type": "display_data",
     "data": {
      "image/png": "[encoded data removed]",
      "text/plain": [
       "<Figure size 1440x360 with 1 Axes>"
      ]
     },
     "metadata": {
      "needs_background": "light"
     }
    }
   ],
   "metadata": {}
  }
 ],
 "metadata": {
  "orig_nbformat": 4,
  "language_info": {
   "name": "python",
   "version": "3.8.8",
   "mimetype": "text/x-python",
   "codemirror_mode": {
    "name": "ipython",
    "version": 3
   },
   "pygments_lexer": "ipython3",
   "nbconvert_exporter": "python",
   "file_extension": ".py"
  },
  "kernelspec": {
   "name": "python3",
   "display_name": "Python 3.8.8 64-bit ('base': conda)"
  },
  "interpreter": {
   "hash": "6d88fb548e40868383efa466675fe4a69798c550c996587531d8f013eec89293"
  }
 },
 "nbformat": 4,
 "nbformat_minor": 2
}