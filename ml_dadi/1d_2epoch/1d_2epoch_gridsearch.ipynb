{
 "cells": [
  {
   "cell_type": "code",
   "execution_count": 1,
   "source": [
    "import pickle\n",
    "import os, sys\n",
    "sys.path.append(os.path.join(os.getcwd(), '..')) # this is the ml_dadi dir\n",
    "import ml_models\n",
    "from ml_models import model_search\n",
    "from sklearn.neural_network import MLPRegressor\n"
   ],
   "outputs": [],
   "metadata": {}
  },
  {
   "cell_type": "code",
   "execution_count": 2,
   "source": [
    "# Load training data\n",
    "list_train_dict = pickle.load(open('data/train_data_exclude_log', 'rb'))\n",
    "train_dict = list_train_dict[0]\n"
   ],
   "outputs": [],
   "metadata": {}
  },
  {
   "cell_type": "code",
   "execution_count": null,
   "source": [
    "# Specify the ML models to be optimized\n",
    "mlpr = MLPRegressor()"
   ],
   "outputs": [],
   "metadata": {}
  },
  {
   "cell_type": "code",
   "execution_count": 3,
   "source": [
    "# Specify param_grid to do the grid search over\n",
    "param_grid = {'solver': ['adam', 'lbfgs'],\n",
    "              'hidden_layer_sizes': [(2000,), (1000,1000)],\n",
    "              'max_iter': [500, 1000],\n",
    "              'learning_rate': ['adaptive', 'constant'],\n",
    "              'alpha': [0.0001, 0.001, 0.01]\n",
    "              }\n"
   ],
   "outputs": [],
   "metadata": {}
  },
  {
   "cell_type": "code",
   "execution_count": 15,
   "source": [
    "for key, value in param_grid.items():\n",
    "    print(key, ' : ', value)"
   ],
   "outputs": [
    {
     "output_type": "stream",
     "name": "stdout",
     "text": [
      "solver  :  ['adam', 'lbfgs']\n",
      "hidden_layer_sizes  :  [(2000,), (1000, 1000)]\n",
      "max_iter  :  [500, 1000]\n",
      "learning_rate  :  ['adaptive', 'constant']\n",
      "alpha  :  [0.0001, 0.001, 0.01]\n"
     ]
    }
   ],
   "metadata": {}
  },
  {
   "cell_type": "code",
   "execution_count": null,
   "source": [
    "model_search(mlpr, train_dict, param_grid)"
   ],
   "outputs": [],
   "metadata": {}
  }
 ],
 "metadata": {
  "orig_nbformat": 4,
  "language_info": {
   "name": "python",
   "version": "3.8.10",
   "mimetype": "text/x-python",
   "codemirror_mode": {
    "name": "ipython",
    "version": 3
   },
   "pygments_lexer": "ipython3",
   "nbconvert_exporter": "python",
   "file_extension": ".py"
  },
  "kernelspec": {
   "name": "python3",
   "display_name": "Python 3.8.10 64-bit (conda)"
  },
  "interpreter": {
   "hash": "55a74aeb62132f0f3c0e21cb55598b2507f2ee10a4f6ed821cc7086dc4f1d0ba"
  }
 },
 "nbformat": 4,
 "nbformat_minor": 2
}