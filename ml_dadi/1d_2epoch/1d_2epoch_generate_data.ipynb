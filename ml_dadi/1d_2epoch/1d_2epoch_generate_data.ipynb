{
 "cells": [
  {
   "cell_type": "code",
   "execution_count": 2,
   "source": [
    "import numpy as np\n",
    "import dadi\n",
    "import random\n",
    "import pickle\n",
    "import os, sys\n",
    "sys.path.append(os.path.join(os.getcwd(), '..')) # this is the ml_dadi dir\n",
    "import data_manip\n",
    "from data_manip import generating_data\n"
   ],
   "outputs": [],
   "metadata": {}
  },
  {
   "cell_type": "code",
   "execution_count": 3,
   "source": [
    "def generate_params(n_samples):\n",
    "    # Generate parameters for training & testing data\n",
    "    param = []  # full range no log\n",
    "    param_log = []  # full range & nu in log scale\n",
    "    param_exclude = []  # exclude T/nu > 5 & nu in log scale\n",
    "    param_list = [param, param_log, param_exclude]\n",
    "\n",
    "    while len(param_exclude) < n_samples:\n",
    "        # pick random values in specified range\n",
    "        # nu range: 0.01-100; T range: 0.1-2\n",
    "        log_nu = random.random() * 4 - 2\n",
    "        T = random.random() * 1.9 + 0.1\n",
    "\n",
    "        # save each param pair into appropriate list\n",
    "        if len(param) < n_samples:  # stop appending once reach desired size\n",
    "            param_log.append((log_nu, T))\n",
    "            param.append((10**log_nu, T))\n",
    "\n",
    "        if T/10**log_nu <= 5:\n",
    "            param_exclude.append((log_nu, T))\n",
    "\n",
    "    # print data set info\n",
    "    print(f'n_samples full range: {len(param)}')\n",
    "    print(f'n_samples exclude T/nu > 5: {len(param_exclude)}')\n",
    "    texts = ['Full range params',\n",
    "             'Full range params log', 'Exclusion params log']\n",
    "    for text, param in zip(texts, param_list):\n",
    "        print(\n",
    "            f'{text}: {tuple([float(\"{0:.3f}\".format(n)) for n in min(param)])} to {tuple([float(\"{0:.3f}\".format(n)) for n in max(param)])}')\n",
    "    return param_list\n"
   ],
   "outputs": [],
   "metadata": {}
  },
  {
   "cell_type": "code",
   "execution_count": 4,
   "source": [
    "# generate frequency spectrum data from param sets\n",
    "def generate_data_from_params(param_list, label):\n",
    "    '''label = \"train_data\" or \"test_data\"'''\n",
    "\n",
    "    # list of theta values to run scaling and add variance\n",
    "    theta_list = [1, 10000, 1000, 100]  # order of increase variance\n",
    "\n",
    "    # designate demographic model, sample size, and extrapolation grid\n",
    "    func = dadi.Demographics1D.two_epoch\n",
    "    ns = [20]\n",
    "    pts_l = [40, 50, 60]\n",
    "\n",
    "    # specify param in log scale, name of data sets\n",
    "    logs = [[False, False], [True, False], [True, False]]\n",
    "    names = ['full_no_log', 'full_log', 'exclude_log']\n",
    "\n",
    "    for param, log, name in zip(param_list, logs, names):\n",
    "        to_save = generating_data(param, theta_list, func, ns, pts_l, log)\n",
    "        pickle.dump(to_save, open(f'data/{label}_{name}', 'wb'), 2)\n"
   ],
   "outputs": [],
   "metadata": {}
  },
  {
   "cell_type": "code",
   "execution_count": 14,
   "source": [
    "train_param = generate_params(1000)\n"
   ],
   "outputs": [
    {
     "output_type": "stream",
     "name": "stdout",
     "text": [
      "n_samples full range: 1000\n",
      "n_samples exclude T/nu > 5: 1000\n",
      "Full range params: (0.01, 0.732) to (99.27, 0.445)\n",
      "Full range params log: (-1.998, 0.732) to (1.997, 0.445)\n",
      "Exclusion params log: (-1.364, 0.157) to (1.997, 0.445)\n"
     ]
    }
   ],
   "metadata": {}
  },
  {
   "cell_type": "code",
   "execution_count": 16,
   "source": [
    "generate_data_from_params(train_param, \"train_data\")\n"
   ],
   "outputs": [],
   "metadata": {}
  },
  {
   "cell_type": "code",
   "execution_count": 5,
   "source": [
    "test_param = generate_params(100)\n"
   ],
   "outputs": [
    {
     "output_type": "stream",
     "name": "stdout",
     "text": [
      "n_samples full range: 100\n",
      "n_samples exclude T/nu > 5: 100\n",
      "Full range params: (0.011, 0.879) to (92.441, 1.5)\n",
      "Full range params log: (-1.952, 0.879) to (1.966, 1.5)\n",
      "Exclusion params log: (-1.416, 0.136) to (1.966, 1.5)\n"
     ]
    }
   ],
   "metadata": {}
  },
  {
   "cell_type": "code",
   "execution_count": 6,
   "source": [
    "generate_data_from_params(test_param, \"test_data\")\n"
   ],
   "outputs": [],
   "metadata": {}
  }
 ],
 "metadata": {
  "orig_nbformat": 4,
  "language_info": {
   "name": "python",
   "version": "3.8.10",
   "mimetype": "text/x-python",
   "codemirror_mode": {
    "name": "ipython",
    "version": 3
   },
   "pygments_lexer": "ipython3",
   "nbconvert_exporter": "python",
   "file_extension": ".py"
  },
  "kernelspec": {
   "name": "python3",
   "display_name": "Python 3.8.10 64-bit (conda)"
  },
  "interpreter": {
   "hash": "55a74aeb62132f0f3c0e21cb55598b2507f2ee10a4f6ed821cc7086dc4f1d0ba"
  }
 },
 "nbformat": 4,
 "nbformat_minor": 2
}