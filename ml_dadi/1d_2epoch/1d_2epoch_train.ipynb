{
 "cells": [
  {
   "cell_type": "code",
   "execution_count": 1,
   "source": [
    "import pickle\n",
    "import os, sys\n",
    "sys.path.append(os.path.join(os.getcwd(), '..')) # this is the ml_dadi dir\n",
    "import ml_models\n",
    "from ml_models import rfr_train, mlpr_train\n"
   ],
   "outputs": [],
   "metadata": {}
  },
  {
   "cell_type": "code",
   "execution_count": 2,
   "source": [
    "# Load training datasets\n",
    "names = ['full_no_log', 'full_log', 'exclude_log']\n",
    "train_data = {}\n",
    "for name in names:\n",
    "    list_train_dict = pickle.load(open(f'data/train_data_{name}', 'rb'))\n",
    "    train_data[name] = list_train_dict\n"
   ],
   "outputs": [],
   "metadata": {}
  },
  {
   "cell_type": "code",
   "execution_count": 3,
   "source": [
    "# Train RFR\n",
    "for name in names:\n",
    "    list_train_dict = train_data[name]\n",
    "    list_rfr = [rfr_train(train_dict) for train_dict in list_train_dict]\n",
    "    pickle.dump(list_rfr, open(f'data/list_rfr_{name}', 'wb'), 2)\n"
   ],
   "outputs": [],
   "metadata": {}
  },
  {
   "cell_type": "code",
   "execution_count": 6,
   "source": [
    "# Train MLPR with adam solver (default)\n",
    "for name in names:\n",
    "    print(name)\n",
    "    list_train_dict = train_data[name]\n",
    "    list_mlpr_adam = [mlpr_train(train_dict, max_iter=500)\n",
    "                       for train_dict in list_train_dict]\n",
    "    pickle.dump(list_mlpr_adam, open(f'data/list_mlpr_adam_{name}', 'wb'), 2)\n"
   ],
   "outputs": [
    {
     "output_type": "stream",
     "name": "stdout",
     "text": [
      "full_no_log\n"
     ]
    },
    {
     "output_type": "stream",
     "name": "stderr",
     "text": [
      "Stochastic Optimizer: Maximum iterations (500) reached and the optimization hasn't converged yet.Stochastic Optimizer: Maximum iterations (500) reached and the optimization hasn't converged yet.Stochastic Optimizer: Maximum iterations (500) reached and the optimization hasn't converged yet.Stochastic Optimizer: Maximum iterations (500) reached and the optimization hasn't converged yet."
     ]
    },
    {
     "output_type": "stream",
     "name": "stdout",
     "text": [
      "full_log\n",
      "exclude_log\n"
     ]
    }
   ],
   "metadata": {}
  },
  {
   "cell_type": "code",
   "execution_count": 7,
   "source": [
    "# Train MLPR with lbfgs solver\n",
    "# Need large max_iter and take longer to run but perform the best for two_epoch\n",
    "for name in names:\n",
    "    print(name)\n",
    "    list_train_dict = train_data[name]\n",
    "    list_mlpr_lbfgs = [mlpr_train(train_dict, solver='lbfgs', max_iter=5000)\n",
    "                            for train_dict in list_train_dict]\n",
    "    pickle.dump(list_mlpr_lbfgs, open(f'data/list_mlpr_lbfgs_{name}', 'wb'), 2)"
   ],
   "outputs": [
    {
     "output_type": "stream",
     "name": "stdout",
     "text": [
      "full_no_log\n"
     ]
    },
    {
     "output_type": "stream",
     "name": "stderr",
     "text": [
      "lbfgs failed to converge (status=1):\n",
      "STOP: TOTAL NO. of ITERATIONS REACHED LIMIT.\n",
      "\n",
      "Increase the number of iterations (max_iter) or scale the data as shown in:\n",
      "    https://scikit-learn.org/stable/modules/preprocessing.htmllbfgs failed to converge (status=1):\n",
      "STOP: TOTAL NO. of ITERATIONS REACHED LIMIT.\n",
      "\n",
      "Increase the number of iterations (max_iter) or scale the data as shown in:\n",
      "    https://scikit-learn.org/stable/modules/preprocessing.htmllbfgs failed to converge (status=1):\n",
      "STOP: TOTAL NO. of ITERATIONS REACHED LIMIT.\n",
      "\n",
      "Increase the number of iterations (max_iter) or scale the data as shown in:\n",
      "    https://scikit-learn.org/stable/modules/preprocessing.htmllbfgs failed to converge (status=1):\n",
      "STOP: TOTAL NO. of ITERATIONS REACHED LIMIT.\n",
      "\n",
      "Increase the number of iterations (max_iter) or scale the data as shown in:\n",
      "    https://scikit-learn.org/stable/modules/preprocessing.html"
     ]
    },
    {
     "output_type": "stream",
     "name": "stdout",
     "text": [
      "full_log\n"
     ]
    },
    {
     "output_type": "stream",
     "name": "stderr",
     "text": [
      "lbfgs failed to converge (status=1):\n",
      "STOP: TOTAL NO. of ITERATIONS REACHED LIMIT.\n",
      "\n",
      "Increase the number of iterations (max_iter) or scale the data as shown in:\n",
      "    https://scikit-learn.org/stable/modules/preprocessing.htmllbfgs failed to converge (status=1):\n",
      "STOP: TOTAL NO. of ITERATIONS REACHED LIMIT.\n",
      "\n",
      "Increase the number of iterations (max_iter) or scale the data as shown in:\n",
      "    https://scikit-learn.org/stable/modules/preprocessing.htmllbfgs failed to converge (status=1):\n",
      "STOP: TOTAL NO. of ITERATIONS REACHED LIMIT.\n",
      "\n",
      "Increase the number of iterations (max_iter) or scale the data as shown in:\n",
      "    https://scikit-learn.org/stable/modules/preprocessing.html"
     ]
    },
    {
     "output_type": "stream",
     "name": "stdout",
     "text": [
      "exclude_log\n"
     ]
    },
    {
     "output_type": "stream",
     "name": "stderr",
     "text": [
      "lbfgs failed to converge (status=1):\n",
      "STOP: TOTAL NO. of ITERATIONS REACHED LIMIT.\n",
      "\n",
      "Increase the number of iterations (max_iter) or scale the data as shown in:\n",
      "    https://scikit-learn.org/stable/modules/preprocessing.html"
     ]
    }
   ],
   "metadata": {}
  }
 ],
 "metadata": {
  "interpreter": {
   "hash": "55a74aeb62132f0f3c0e21cb55598b2507f2ee10a4f6ed821cc7086dc4f1d0ba"
  },
  "kernelspec": {
   "name": "python3",
   "display_name": "Python 3.8.10 64-bit (conda)"
  },
  "language_info": {
   "codemirror_mode": {
    "name": "ipython",
    "version": 3
   },
   "file_extension": ".py",
   "mimetype": "text/x-python",
   "name": "python",
   "nbconvert_exporter": "python",
   "pygments_lexer": "ipython3",
   "version": "3.8.10"
  },
  "orig_nbformat": 4
 },
 "nbformat": 4,
 "nbformat_minor": 2
}