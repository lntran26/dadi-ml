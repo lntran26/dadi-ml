{
 "cells": [
  {
   "cell_type": "code",
   "execution_count": 1,
   "source": [
    "import pickle\n",
    "import os, sys\n",
    "sys.path.append(os.path.join(os.getcwd(), '..')) # this is the ml_dadi dir\n",
    "import ml_models\n",
    "from ml_models import rfr_train, mlpr_train\n"
   ],
   "outputs": [],
   "metadata": {}
  },
  {
   "cell_type": "code",
   "execution_count": 2,
   "source": [
    "# Load training datasets\n",
    "names = ['full_no_log', 'full_log', 'exclude_log']\n",
    "train_data = {}\n",
    "for name in names:\n",
    "    list_train_dict = pickle.load(open(f'data/train_data_{name}', 'rb'))\n",
    "    train_data[name] = list_train_dict\n"
   ],
   "outputs": [],
   "metadata": {}
  },
  {
   "cell_type": "code",
   "execution_count": null,
   "source": [
    "# # Train RFR\n",
    "# for name in names:\n",
    "#     list_train_dict = train_data[name]\n",
    "#     list_rfr = [rfr_train(train_dict) for train_dict in list_train_dict]\n",
    "#     pickle.dump(list_rfr, open(f'data/list_rfr_{name}', 'wb'), 2)\n"
   ],
   "outputs": [],
   "metadata": {}
  },
  {
   "cell_type": "code",
   "execution_count": null,
   "source": [
    "# # Train MLPR with lbfgs solver\n",
    "# # Need large max_iter and take longer to run but perform the best for two_epoch\n",
    "# for name in names:\n",
    "#     print(name)\n",
    "#     list_train_dict = train_data[name]\n",
    "#     list_mlpr_lbfgs = [mlpr_train(train_dict, hidden_layer_sizes=(25,25,25,25),\n",
    "#                                             solver='lbfgs', max_iter=5000)\n",
    "#                             for train_dict in list_train_dict]\n",
    "#     pickle.dump(list_mlpr_lbfgs, open(f'data/list_mlpr_lbfgs_{name}', 'wb'), 2)"
   ],
   "outputs": [],
   "metadata": {}
  },
  {
   "cell_type": "code",
   "execution_count": 14,
   "source": [
    "# Train MLPR with lbfgs solver for exclude_log and theta=1\n",
    "train_dict = train_data['exclude_log'][0]\n",
    "\n",
    "mlpr_lbfgs = mlpr_train(train_dict, hidden_layer_sizes=(25,25,25,25),\n",
    "                                solver='lbfgs', max_iter=1000, alpha=1)\n",
    "pickle.dump(mlpr_lbfgs, open(f'data/mlpr_lbfgs_exclude_log_new', 'wb'), 2)"
   ],
   "outputs": [],
   "metadata": {}
  }
 ],
 "metadata": {
  "interpreter": {
   "hash": "55a74aeb62132f0f3c0e21cb55598b2507f2ee10a4f6ed821cc7086dc4f1d0ba"
  },
  "kernelspec": {
   "name": "python3",
   "display_name": "Python 3.8.10 64-bit (conda)"
  },
  "language_info": {
   "codemirror_mode": {
    "name": "ipython",
    "version": 3
   },
   "file_extension": ".py",
   "mimetype": "text/x-python",
   "name": "python",
   "nbconvert_exporter": "python",
   "pygments_lexer": "ipython3",
   "version": "3.8.10"
  },
  "orig_nbformat": 4
 },
 "nbformat": 4,
 "nbformat_minor": 2
}